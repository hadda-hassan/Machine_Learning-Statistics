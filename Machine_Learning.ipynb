{
  "nbformat": 4,
  "nbformat_minor": 0,
  "metadata": {
    "colab": {
      "name": "Machine Learning.ipynb",
      "provenance": [],
      "collapsed_sections": []
    },
    "kernelspec": {
      "name": "python3",
      "display_name": "Python 3"
    }
  },
  "cells": [
    {
      "cell_type": "markdown",
      "metadata": {
        "id": "gh4PIGEQSUBL"
      },
      "source": [
        "#Algorithmes de Machine Learning\r\n"
      ]
    },
    {
      "cell_type": "code",
      "metadata": {
        "id": "8dK4wJRNU4xI"
      },
      "source": [
        "import pandas as pd\r\n",
        "import numpy as np \r\n",
        "import matplotlib.pyplot as plt\r\n",
        "%matplotlib inline"
      ],
      "execution_count": null,
      "outputs": []
    },
    {
      "cell_type": "markdown",
      "metadata": {
        "id": "HSTd4ppfkfpf"
      },
      "source": [
        "- Liaison flask/siteweb/sql\r\n",
        "- prediction :  (svc, svm, , arbre,randomforest, knn..)\r\n",
        " - Greadsearch,crossval,test/train\r\n",
        " - Analyse de sentiments\r\n",
        "\r\n",
        "\r\n",
        "- Extraction de données sur siteweb\r\n",
        "\r\n",
        "- ACP, ACM\r\n",
        "\r\n",
        "- Courbe Roc | Dendogramme (et autres outil d'affichage)\r\n",
        "\r\n",
        "- Extraction Vidéo|Audio|Texte ?\r\n",
        "\r\n",
        "- Nettoyage des données\r\n",
        "\r\n"
      ]
    },
    {
      "cell_type": "markdown",
      "metadata": {
        "id": "Llye-4_mUHZK"
      },
      "source": [
        "#REGRESSION LINEAIRE SIMPLE/MULTIPLE"
      ]
    },
    {
      "cell_type": "code",
      "metadata": {
        "colab": {
          "base_uri": "https://localhost:8080/",
          "height": 317
        },
        "id": "vU6vQEjISSAS",
        "outputId": "2f1091da-9c87-4e08-a9ef-714049dc4bfc"
      },
      "source": [
        "from sklearn.linear_model import LinearRegression\r\n",
        "\r\n",
        "#Génération des données aléatoires\r\n",
        "X = 2*np.random.rand(100,1) \r\n",
        "Y = 4+3*X + np.random.randn(100,1)/2\r\n",
        "\r\n",
        "\r\n",
        "#Création du modèle et apprentissage\r\n",
        "lin_reg = LinearRegression()\r\n",
        "lin_reg.fit(X,Y)\r\n",
        "\r\n",
        "\r\n",
        "print(\"L ordonnées à l'origine vaut : \" , lin_reg.intercept_[0]) #Ordonné à l'arigine\r\n",
        "print(\"La matrice des coeff tetas est : \", lin_reg.coef_) #Valeurs des coefficients tetas \r\n",
        "\r\n",
        "#Prediction des nouvelles données \r\n",
        "NewX = [[1],[0.5],[1.2]]\r\n",
        "prediction = lin_reg.predict(NewX)\r\n",
        "\r\n",
        "\r\n",
        "#Droite de Regression linéaire \r\n",
        "plt.scatter(X,Y)\r\n",
        "plt.plot(X,lin_reg.intercept_ + lin_reg.coef_*X,label=\"Droite de Regression\" )\r\n",
        "plt.legend()\r\n"
      ],
      "execution_count": null,
      "outputs": [
        {
          "output_type": "stream",
          "text": [
            "L ordonnées à l'origine vaut :  3.9348842378093756\n",
            "La matrice des coeff tetas est :  [[3.00706991]]\n"
          ],
          "name": "stdout"
        },
        {
          "output_type": "execute_result",
          "data": {
            "text/plain": [
              "<matplotlib.legend.Legend at 0x7efc85b500b8>"
            ]
          },
          "metadata": {
            "tags": []
          },
          "execution_count": 106
        },
        {
          "output_type": "display_data",
          "data": {
            "image/png": "[encoded data removed]",
            "text/plain": [
              "<Figure size 432x288 with 1 Axes>"
            ]
          },
          "metadata": {
            "tags": [],
            "needs_background": "light"
          }
        }
      ]
    },
    {
      "cell_type": "markdown",
      "metadata": {
        "id": "LqxeWnxTagH3"
      },
      "source": [
        "#REGRESSION LOGISTIQUE\r\n",
        "A rajouter :\r\n",
        "- Test avec cross validation \r\n",
        "- Modification du seuil \r\n",
        "- Utilisation de courbe ROC et critère AIC"
      ]
    },
    {
      "cell_type": "code",
      "metadata": {
        "colab": {
          "base_uri": "https://localhost:8080/"
        },
        "id": "j-PZRT3wV2qz",
        "outputId": "87125e24-badc-4698-b737-42e8f22a4c0a"
      },
      "source": [
        "from sklearn import datasets\r\n",
        "from sklearn.model_selection import train_test_split ,cross_val_score ,ShuffleSplit\r\n",
        "from sklearn.linear_model import LogisticRegression\r\n",
        "from sklearn.metrics import classification_report, confusion_matrix\r\n",
        "\r\n",
        "\r\n",
        "#Exemple sur les données Iris\r\n",
        "iris = datasets.load_iris() #Importation des données\r\n",
        "X = iris.data\r\n",
        "Y = [int(value==0) for value in iris.target] #On predit si un élément a la classe 0 ou non\r\n",
        "X_train, X_test, y_train, y_test = train_test_split(X, Y) #Découpage en données train et test\r\n",
        "\r\n",
        "#Création du modèle puis apprentissage sur le train\r\n",
        "modeleRegressionLogistique  = LogisticRegression(solver='liblinear') \r\n",
        "model = modeleRegressionLogistique.fit(X_train, y_train)\r\n",
        "\r\n",
        "#Score des prédictions sur les données tests\r\n",
        "prediction = model.predict(X_test)\r\n",
        "Score = model.score(X_test, y_test)\r\n",
        "print('Notre modèle a une accuracy de :',Score)\r\n",
        "print(\"La matrice de confusion associé est : \\n\" , confusion_matrix(y_test, model.predict(X_test)).T)\r\n"
      ],
      "execution_count": null,
      "outputs": [
        {
          "output_type": "stream",
          "text": [
            "Notre modèle a une accuracy de : 1.0\n",
            "La matrice de confusion associé est : \n",
            " [[27  0]\n",
            " [ 0 11]]\n"
          ],
          "name": "stdout"
        }
      ]
    },
    {
      "cell_type": "markdown",
      "metadata": {
        "id": "nezhh4RuuNBl"
      },
      "source": [
        "#DESCENTE DE GRANDIENT SIMPLE"
      ]
    },
    {
      "cell_type": "code",
      "metadata": {
        "id": "rz1g2h-duRKw"
      },
      "source": [
        "from sklearn.preprocessing import StandardScaler\r\n",
        "X = 2*np.random.rand(100,1) \r\n",
        "Y = 4+3*X + np.random.randn(100,1)/2\r\n",
        "X_new  = np.c_[np.ones((100,1)),X] #Ajout d'une colonne de 1 \r\n",
        "#Il faut centrer réduire nos données\r\n",
        "\r\n",
        "scaler = StandardScaler()\r\n",
        "#X_new = scaler.fit_transform(X_new)\r\n",
        "\r\n",
        "#Paramètres à optimiser en fonction de nos données\r\n",
        "tauxAprentissage = 0.1\r\n",
        "nombreIterations = 1000\r\n",
        "m = 100\r\n",
        "\r\n",
        "\r\n",
        "\r\n",
        "theta = np.random.randn(2,1) #Initialisation aléatoire des thétas\r\n",
        "for iteration in range(nombreIterations) :\r\n",
        "  gradients = (2/m) * X_new.T.dot(X_new.dot(theta) - Y)\r\n",
        "  theta = theta - tauxAprentissage * gradients"
      ],
      "execution_count": null,
      "outputs": []
    },
    {
      "cell_type": "code",
      "metadata": {
        "colab": {
          "base_uri": "https://localhost:8080/"
        },
        "id": "wCkrKuWwvcxB",
        "outputId": "a77abe22-208d-48d1-fe11-98b19c872dda"
      },
      "source": [
        "theta"
      ],
      "execution_count": null,
      "outputs": [
        {
          "output_type": "execute_result",
          "data": {
            "text/plain": [
              "array([[4.12046369],\n",
              "       [2.91838523]])"
            ]
          },
          "metadata": {
            "tags": []
          },
          "execution_count": 135
        }
      ]
    },
    {
      "cell_type": "code",
      "metadata": {
        "id": "p4TqavS0v1vu"
      },
      "source": [
        "import spacy\r\n",
        "from sklearn.feature_extraction.text import TfidfVectorizer\r\n",
        "import time\r\n",
        "import nltk\r\n",
        "!pip install unidecode\r\n",
        "import unidecode\r\n",
        "from nltk.stem.snowball import FrenchStemmer\r\n",
        "stemmer = FrenchStemmer()\r\n",
        "tokenizer = nltk.RegexpTokenizer(r'\\w+')\r\n",
        "from nltk.stem.snowball import SnowballStemmer\r\n",
        "from nltk.corpus import stopwords\r\n",
        "\r\n",
        "stemmer = SnowballStemmer(language='english')\r\n",
        "nltk.download('stopwords')\r\n",
        "nltk.download('punkt')\r\n",
        "nlp = spacy.load(\"en_core_web_sm\")\r\n",
        "\r\n",
        "stopWords = set(stopwords.words('english'))"
      ],
      "execution_count": null,
      "outputs": []
    },
    {
      "cell_type": "code",
      "metadata": {
        "id": "bv1kNkapweIK"
      },
      "source": [
        "\r\n",
        "def lemmatize(listeSentences) :\r\n",
        "  listePhrases = []\r\n",
        "  for sentence in listeSentences :\r\n",
        "    phrase = []\r\n",
        "    doc = nlp(sentence)\r\n",
        "    for token in doc:\r\n",
        "        phrase.append(token.lemma_)\r\n",
        "    listePhrases.append(' '.join(phrase))\r\n",
        "  return listePhrases\r\n",
        "\r\n",
        "\r\n",
        "def nettoyage(listeSentences) :\r\n",
        "  return [' '.join([w for w in  tokenizer.tokenize(unidecode.unidecode(phrase)) if w not in stopWords ]).lower() for phrase in listeSentences]\r\n",
        "  \r\n",
        "\r\n",
        "\r\n",
        "\r\n",
        "\r\n"
      ],
      "execution_count": null,
      "outputs": []
    },
    {
      "cell_type": "markdown",
      "metadata": {
        "id": "ti9m2K8gEwya"
      },
      "source": [
        "lemmatization"
      ]
    },
    {
      "cell_type": "code",
      "metadata": {
        "id": "ud12SD6KE_8W"
      },
      "source": [
        "# install spacy-lefff library for dataframe limmatization.\n",
        "!pip install spacy-lefff\n",
        "!python -m spacy download fr_core_news_sm\n",
        "!python -m spacy download fr"
      ],
      "execution_count": null,
      "outputs": []
    },
    {
      "cell_type": "code",
      "metadata": {
        "id": "gmKPNKW-EvxO"
      },
      "source": [
        "import spacy\n",
        "from spacy_lefff import LefffLemmatizer, POSTagger\n",
        "\n",
        "# spacy limmatization \n",
        "nlp = spacy.load('fr')\n",
        "french_lemmatizer = LefffLemmatizer()\n",
        "nlp.add_pipe(french_lemmatizer, name='lefff')\n",
        "\n",
        "def lemmatize_spacy(text) : \n",
        "  text = nlp(text)\n",
        "  new_text = \"\"\n",
        "  for word in text : \n",
        "    new_word = word._.lefff_lemma if word._.lefff_lemma else word\n",
        "    new_text = new_text+\" \"+str(new_word)\n",
        "  return new_text"
      ],
      "execution_count": null,
      "outputs": []
    },
    {
      "cell_type": "code",
      "metadata": {
        "id": "Pd6XBZ2jC6kq"
      },
      "source": [
        "listeSentences = []\r\n",
        "for i in range(len(docs)) :\r\n",
        "  listeSentences.append(docs[i]['content'])\r\n",
        "\r\n",
        "sentence_clean = nettoyage(listeSentences)\r\n",
        "\r\n",
        "\r\n",
        "\r\n",
        "\r\n"
      ],
      "execution_count": null,
      "outputs": []
    },
    {
      "cell_type": "code",
      "metadata": {
        "id": "INsk73GzOhKr"
      },
      "source": [
        "\r\n",
        "import numpy as np\r\n",
        "import pandas as pd\r\n",
        "content=[x['content'] for x in docs]\r\n",
        "sentence_clean = nettoyage(content[:1])\r\n",
        "\r\n",
        "\r\n",
        "vectorizer = TfidfVectorizer()\r\n",
        "#X = vectorizer.fit_transform(sentence_clean)\r\n",
        "X = vectorizer.fit(sentence_clean)\r\n"
      ],
      "execution_count": null,
      "outputs": []
    }
  ]
}